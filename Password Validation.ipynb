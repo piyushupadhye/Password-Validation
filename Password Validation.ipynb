{
 "cells": [
  {
   "cell_type": "code",
   "execution_count": null,
   "id": "5bb00f8f",
   "metadata": {},
   "outputs": [],
   "source": [
    "str1=input('Enter Password: ')\n",
    "l,n,u,c=0,0,0,0\n",
    "\n",
    "if len(str1)>=6 and len(str1)<=12:            # Max. & Min. length of password\n",
    "    \n",
    "    for i in str1:\n",
    "         \n",
    "        if i.islower():                          # To find lower\n",
    "            l+=1\n",
    "        if i.isdigit():                             # To find Number\n",
    "            n+=1\n",
    "        if i.isupper():                                # To find Upper\n",
    "            u+=1\n",
    "        if (i=='$' or i=='#' or i=='@'):                # To find Special Chtr.\n",
    "            c+=1\n",
    "            \n",
    "if (l>=1 and n>=1 and u>=1 and c>=1 and l+n+u+c==len(str1)):    # To Match the requirement\n",
    "    print('Valid')\n",
    "    \n",
    "else:\n",
    "    print('Invalid')\n"
   ]
  },
  {
   "cell_type": "code",
   "execution_count": null,
   "id": "6c186f4c",
   "metadata": {},
   "outputs": [],
   "source": []
  }
 ],
 "metadata": {
  "kernelspec": {
   "display_name": "Python 3 (ipykernel)",
   "language": "python",
   "name": "python3"
  },
  "language_info": {
   "codemirror_mode": {
    "name": "ipython",
    "version": 3
   },
   "file_extension": ".py",
   "mimetype": "text/x-python",
   "name": "python",
   "nbconvert_exporter": "python",
   "pygments_lexer": "ipython3",
   "version": "3.9.7"
  }
 },
 "nbformat": 4,
 "nbformat_minor": 5
}
